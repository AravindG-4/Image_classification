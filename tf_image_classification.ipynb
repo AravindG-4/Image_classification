{
  "cells": [
    {
      "cell_type": "markdown",
      "metadata": {
        "id": "view-in-github",
        "colab_type": "text"
      },
      "source": [
        "<a href=\"https://colab.research.google.com/github/AravindG-4/Image_classification/blob/main/tf_image_classification.ipynb\" target=\"_parent\"><img src=\"https://colab.research.google.com/assets/colab-badge.svg\" alt=\"Open In Colab\"/></a>"
      ]
    },
    {
      "cell_type": "code",
      "execution_count": null,
      "metadata": {
        "id": "Ob5adeJ3rxsA"
      },
      "outputs": [],
      "source": [
        "import tensorflow as tf\n",
        "import matplotlib.pyplot as plt\n",
        "from tensorflow.keras import datasets, layers, models\n",
        "import numpy as np"
      ]
    },
    {
      "cell_type": "code",
      "execution_count": null,
      "metadata": {
        "colab": {
          "base_uri": "https://localhost:8080/"
        },
        "id": "W8tH9LJcsrlw",
        "outputId": "fd54b853-3133-4f50-f3e6-e40c441a015b"
      },
      "outputs": [
        {
          "output_type": "stream",
          "name": "stdout",
          "text": [
            "Downloading data from https://www.cs.toronto.edu/~kriz/cifar-10-python.tar.gz\n",
            "170498071/170498071 [==============================] - 4s 0us/step\n"
          ]
        }
      ],
      "source": [
        "(x_train, y_train), (x_test, y_test) = datasets.cifar10.load_data()"
      ]
    },
    {
      "cell_type": "code",
      "execution_count": null,
      "metadata": {
        "colab": {
          "base_uri": "https://localhost:8080/"
        },
        "id": "3Ry4zIxws3EA",
        "outputId": "724a4cd6-e8e5-41fa-e955-5c6e5ab67d6d"
      },
      "outputs": [
        {
          "output_type": "execute_result",
          "data": {
            "text/plain": [
              "(50000, 32, 32, 3)"
            ]
          },
          "metadata": {},
          "execution_count": 3
        }
      ],
      "source": [
        "x_train.shape"
      ]
    },
    {
      "cell_type": "code",
      "execution_count": null,
      "metadata": {
        "colab": {
          "base_uri": "https://localhost:8080/"
        },
        "id": "-NeUBL9VtfMQ",
        "outputId": "c5eff477-ec84-42c2-f34c-33039cd375c6"
      },
      "outputs": [
        {
          "output_type": "execute_result",
          "data": {
            "text/plain": [
              "array([[[[ 59,  62,  63],\n",
              "         [ 43,  46,  45],\n",
              "         [ 50,  48,  43],\n",
              "         ...,\n",
              "         [158, 132, 108],\n",
              "         [152, 125, 102],\n",
              "         [148, 124, 103]],\n",
              "\n",
              "        [[ 16,  20,  20],\n",
              "         [  0,   0,   0],\n",
              "         [ 18,   8,   0],\n",
              "         ...,\n",
              "         [123,  88,  55],\n",
              "         [119,  83,  50],\n",
              "         [122,  87,  57]],\n",
              "\n",
              "        [[ 25,  24,  21],\n",
              "         [ 16,   7,   0],\n",
              "         [ 49,  27,   8],\n",
              "         ...,\n",
              "         [118,  84,  50],\n",
              "         [120,  84,  50],\n",
              "         [109,  73,  42]],\n",
              "\n",
              "        ...,\n",
              "\n",
              "        [[208, 170,  96],\n",
              "         [201, 153,  34],\n",
              "         [198, 161,  26],\n",
              "         ...,\n",
              "         [160, 133,  70],\n",
              "         [ 56,  31,   7],\n",
              "         [ 53,  34,  20]],\n",
              "\n",
              "        [[180, 139,  96],\n",
              "         [173, 123,  42],\n",
              "         [186, 144,  30],\n",
              "         ...,\n",
              "         [184, 148,  94],\n",
              "         [ 97,  62,  34],\n",
              "         [ 83,  53,  34]],\n",
              "\n",
              "        [[177, 144, 116],\n",
              "         [168, 129,  94],\n",
              "         [179, 142,  87],\n",
              "         ...,\n",
              "         [216, 184, 140],\n",
              "         [151, 118,  84],\n",
              "         [123,  92,  72]]]], dtype=uint8)"
            ]
          },
          "metadata": {},
          "execution_count": 4
        }
      ],
      "source": [
        "x_train[:1]"
      ]
    },
    {
      "cell_type": "code",
      "execution_count": null,
      "metadata": {
        "colab": {
          "base_uri": "https://localhost:8080/"
        },
        "id": "9IVlDhCitbE4",
        "outputId": "e1c2a3c7-d277-4a1f-fed1-cee1622b290b"
      },
      "outputs": [
        {
          "output_type": "execute_result",
          "data": {
            "text/plain": [
              "(10000, 32, 32, 3)"
            ]
          },
          "metadata": {},
          "execution_count": 5
        }
      ],
      "source": [
        "x_test.shape"
      ]
    },
    {
      "cell_type": "code",
      "execution_count": null,
      "metadata": {
        "colab": {
          "base_uri": "https://localhost:8080/"
        },
        "id": "GoXrhSMRtOME",
        "outputId": "ec5104bb-5f89-4148-84d2-c4a071fc0629"
      },
      "outputs": [
        {
          "output_type": "execute_result",
          "data": {
            "text/plain": [
              "(50000, 1)"
            ]
          },
          "metadata": {},
          "execution_count": 6
        }
      ],
      "source": [
        "y_train.shape"
      ]
    },
    {
      "cell_type": "code",
      "execution_count": null,
      "metadata": {
        "colab": {
          "base_uri": "https://localhost:8080/"
        },
        "id": "RFiVv953taM9",
        "outputId": "84e0daef-a8c4-4e75-a1e4-2dd1d351b944"
      },
      "outputs": [
        {
          "output_type": "execute_result",
          "data": {
            "text/plain": [
              "array([[6],\n",
              "       [9],\n",
              "       [9],\n",
              "       [4],\n",
              "       [1]], dtype=uint8)"
            ]
          },
          "metadata": {},
          "execution_count": 7
        }
      ],
      "source": [
        "y_train[:5]"
      ]
    },
    {
      "cell_type": "code",
      "execution_count": null,
      "metadata": {
        "colab": {
          "base_uri": "https://localhost:8080/"
        },
        "id": "UnHbFiguuVxV",
        "outputId": "98323a66-b080-4f92-d77e-1f063fca7151"
      },
      "outputs": [
        {
          "output_type": "execute_result",
          "data": {
            "text/plain": [
              "array([6, 9, 9, 4, 1, 1, 2, 7, 8, 3], dtype=uint8)"
            ]
          },
          "metadata": {},
          "execution_count": 8
        }
      ],
      "source": [
        "y_train = y_train.reshape(-1,)\n",
        "y_test = y_test.reshape(-1,)\n",
        "y_train[:10]"
      ]
    },
    {
      "cell_type": "code",
      "source": [
        "from sklearn.model_selection import train_test_split\n",
        "x_test, x_val, y_test, y_val = train_test_split(x_test, y_test, test_size = 0.2, random_state = 42)"
      ],
      "metadata": {
        "id": "_DV7j-HGXuAU"
      },
      "execution_count": null,
      "outputs": []
    },
    {
      "cell_type": "code",
      "source": [
        "print(y_test.shape)\n",
        "print(y_val.shape)"
      ],
      "metadata": {
        "colab": {
          "base_uri": "https://localhost:8080/"
        },
        "id": "OvATgN0MYKpR",
        "outputId": "449d80ef-2289-41cb-8a16-bc9d0e6fa398"
      },
      "execution_count": null,
      "outputs": [
        {
          "output_type": "stream",
          "name": "stdout",
          "text": [
            "(8000,)\n",
            "(2000,)\n"
          ]
        }
      ]
    },
    {
      "cell_type": "code",
      "execution_count": null,
      "metadata": {
        "id": "45TjONEguiaX"
      },
      "outputs": [],
      "source": [
        "classes = [\"airplane\",\"automobile\",\"bird\",\"cat\",\"deer\",\"dog\",\"frog\",\"horse\",\"ship\",\"truck\"]"
      ]
    },
    {
      "cell_type": "code",
      "execution_count": null,
      "metadata": {
        "id": "COEndGrvu7QF"
      },
      "outputs": [],
      "source": [
        "def plot_image(index, x = x_train, y = y_train):\n",
        "  plt.figure(figsize = (15,4))\n",
        "  plt.imshow(x[index])\n",
        "  plt.xlabel(classes[y[index]])"
      ]
    },
    {
      "cell_type": "code",
      "execution_count": null,
      "metadata": {
        "colab": {
          "base_uri": "https://localhost:8080/",
          "height": 388
        },
        "id": "Pi7L3X72vZad",
        "outputId": "cbea10ac-b1d3-4e12-80e0-87850d6c71fc"
      },
      "outputs": [
        {
          "output_type": "display_data",
          "data": {
            "text/plain": [
              "<Figure size 1500x400 with 1 Axes>"
            ],
            "image/png": "[encoded data removed]"
          },
          "metadata": {}
        }
      ],
      "source": [
        "plot_image(0, x_train, y_train)"
      ]
    },
    {
      "cell_type": "code",
      "execution_count": null,
      "metadata": {
        "colab": {
          "base_uri": "https://localhost:8080/",
          "height": 388
        },
        "id": "TwVROjxUvfv5",
        "outputId": "77cdd637-d548-49c1-fad5-49d77813d61d"
      },
      "outputs": [
        {
          "output_type": "display_data",
          "data": {
            "text/plain": [
              "<Figure size 1500x400 with 1 Axes>"
            ],
            "image/png": "[encoded data removed]"
          },
          "metadata": {}
        }
      ],
      "source": [
        "plot_image(5)"
      ]
    },
    {
      "cell_type": "code",
      "source": [
        "x_train = x_train/255.0\n",
        "x_test = x_test/255.0"
      ],
      "metadata": {
        "id": "Shdb5yRsTqN0"
      },
      "execution_count": null,
      "outputs": []
    },
    {
      "cell_type": "code",
      "source": [
        "plot_image(5)"
      ],
      "metadata": {
        "colab": {
          "base_uri": "https://localhost:8080/",
          "height": 388
        },
        "id": "xMbKvSWYT-Q7",
        "outputId": "f0722841-8602-4295-808a-d48da82e693e"
      },
      "execution_count": null,
      "outputs": [
        {
          "output_type": "display_data",
          "data": {
            "text/plain": [
              "<Figure size 1500x400 with 1 Axes>"
            ],
            "image/png": "[encoded data removed]"
          },
          "metadata": {}
        }
      ]
    },
    {
      "cell_type": "markdown",
      "source": [
        "ANN Model"
      ],
      "metadata": {
        "id": "80PL4nkCTeuU"
      }
    },
    {
      "cell_type": "code",
      "execution_count": null,
      "metadata": {
        "id": "zkh-0jpPv-yO"
      },
      "outputs": [],
      "source": [
        "ann_model = models.Sequential([\n",
        "    layers.Flatten(input_shape = (32,32,3)),\n",
        "\n",
        "    layers.Dense(3000, activation = 'relu'),\n",
        "    layers.Dense(1000, activation = 'relu'),\n",
        "    layers.Dense(10, activation = 'softmax')\n",
        "])\n",
        "\n",
        "ann_model.compile(optimizer = 'SGD',\n",
        "                  loss = 'sparse_categorical_crossentropy',\n",
        "                  metrics = ['accuracy'])"
      ]
    },
    {
      "cell_type": "code",
      "source": [
        "ann_model.fit(x_train, y_train, validation_data = (x_val, y_val), epochs = 50)"
      ],
      "metadata": {
        "colab": {
          "base_uri": "https://localhost:8080/"
        },
        "id": "03r0nqgWXJuJ",
        "outputId": "3dd40c37-4d42-465e-b28f-b6bc253411dc"
      },
      "execution_count": null,
      "outputs": [
        {
          "output_type": "stream",
          "name": "stdout",
          "text": [
            "Epoch 1/50\n",
            "1563/1563 [==============================] - 8s 5ms/step - loss: 1.8127 - accuracy: 0.3545 - val_loss: 173.5227 - val_accuracy: 0.3840\n",
            "Epoch 2/50\n",
            "1563/1563 [==============================] - 8s 5ms/step - loss: 1.6236 - accuracy: 0.4277 - val_loss: 157.3200 - val_accuracy: 0.4320\n",
            "Epoch 3/50\n",
            "1563/1563 [==============================] - 7s 5ms/step - loss: 1.5419 - accuracy: 0.4570 - val_loss: 163.8345 - val_accuracy: 0.4480\n",
            "Epoch 4/50\n",
            "1563/1563 [==============================] - 8s 5ms/step - loss: 1.4809 - accuracy: 0.4754 - val_loss: 153.9319 - val_accuracy: 0.4680\n",
            "Epoch 5/50\n",
            "1563/1563 [==============================] - 7s 5ms/step - loss: 1.4316 - accuracy: 0.4969 - val_loss: 232.8081 - val_accuracy: 0.4195\n",
            "Epoch 6/50\n",
            "1563/1563 [==============================] - 7s 5ms/step - loss: 1.3868 - accuracy: 0.5103 - val_loss: 190.6138 - val_accuracy: 0.4690\n",
            "Epoch 7/50\n",
            "1563/1563 [==============================] - 8s 5ms/step - loss: 1.3477 - accuracy: 0.5271 - val_loss: 173.6128 - val_accuracy: 0.4830\n",
            "Epoch 8/50\n",
            "1563/1563 [==============================] - 7s 5ms/step - loss: 1.3166 - accuracy: 0.5344 - val_loss: 163.8470 - val_accuracy: 0.4980\n",
            "Epoch 9/50\n",
            "1563/1563 [==============================] - 8s 5ms/step - loss: 1.2825 - accuracy: 0.5496 - val_loss: 218.9779 - val_accuracy: 0.4515\n",
            "Epoch 10/50\n",
            "1563/1563 [==============================] - 8s 5ms/step - loss: 1.2509 - accuracy: 0.5605 - val_loss: 186.5161 - val_accuracy: 0.4855\n",
            "Epoch 11/50\n",
            "1563/1563 [==============================] - 7s 5ms/step - loss: 1.2205 - accuracy: 0.5739 - val_loss: 189.2825 - val_accuracy: 0.4935\n",
            "Epoch 12/50\n",
            "1563/1563 [==============================] - 8s 5ms/step - loss: 1.1968 - accuracy: 0.5813 - val_loss: 256.4848 - val_accuracy: 0.4415\n",
            "Epoch 13/50\n",
            "1563/1563 [==============================] - 7s 5ms/step - loss: 1.1663 - accuracy: 0.5917 - val_loss: 208.2336 - val_accuracy: 0.4850\n",
            "Epoch 14/50\n",
            "1563/1563 [==============================] - 8s 5ms/step - loss: 1.1363 - accuracy: 0.6016 - val_loss: 214.0862 - val_accuracy: 0.4745\n",
            "Epoch 15/50\n",
            "1563/1563 [==============================] - 8s 5ms/step - loss: 1.1111 - accuracy: 0.6121 - val_loss: 226.5236 - val_accuracy: 0.4620\n",
            "Epoch 16/50\n",
            "1563/1563 [==============================] - 7s 5ms/step - loss: 1.0882 - accuracy: 0.6217 - val_loss: 252.7041 - val_accuracy: 0.4605\n",
            "Epoch 17/50\n",
            "1563/1563 [==============================] - 8s 5ms/step - loss: 1.0593 - accuracy: 0.6311 - val_loss: 238.0272 - val_accuracy: 0.4585\n",
            "Epoch 18/50\n",
            "1563/1563 [==============================] - 7s 5ms/step - loss: 1.0347 - accuracy: 0.6404 - val_loss: 253.9062 - val_accuracy: 0.4780\n",
            "Epoch 19/50\n",
            "1563/1563 [==============================] - 8s 5ms/step - loss: 1.0086 - accuracy: 0.6492 - val_loss: 306.1491 - val_accuracy: 0.4405\n",
            "Epoch 20/50\n",
            "1563/1563 [==============================] - 8s 5ms/step - loss: 0.9816 - accuracy: 0.6586 - val_loss: 325.1259 - val_accuracy: 0.4315\n",
            "Epoch 21/50\n",
            "1563/1563 [==============================] - 7s 5ms/step - loss: 0.9564 - accuracy: 0.6688 - val_loss: 317.4894 - val_accuracy: 0.4305\n",
            "Epoch 22/50\n",
            "1563/1563 [==============================] - 7s 5ms/step - loss: 0.9315 - accuracy: 0.6768 - val_loss: 310.0266 - val_accuracy: 0.4580\n",
            "Epoch 23/50\n",
            "1563/1563 [==============================] - 7s 5ms/step - loss: 0.9055 - accuracy: 0.6868 - val_loss: 245.9385 - val_accuracy: 0.5140\n",
            "Epoch 24/50\n",
            "1563/1563 [==============================] - 8s 5ms/step - loss: 0.8812 - accuracy: 0.6964 - val_loss: 379.4067 - val_accuracy: 0.4165\n",
            "Epoch 25/50\n",
            "1563/1563 [==============================] - 8s 5ms/step - loss: 0.8564 - accuracy: 0.7054 - val_loss: 328.4725 - val_accuracy: 0.4510\n",
            "Epoch 26/50\n",
            "1563/1563 [==============================] - 7s 5ms/step - loss: 0.8310 - accuracy: 0.7125 - val_loss: 331.2759 - val_accuracy: 0.4515\n",
            "Epoch 27/50\n",
            "1563/1563 [==============================] - 8s 5ms/step - loss: 0.8020 - accuracy: 0.7248 - val_loss: 448.9724 - val_accuracy: 0.3960\n",
            "Epoch 28/50\n",
            "1563/1563 [==============================] - 7s 5ms/step - loss: 0.7816 - accuracy: 0.7339 - val_loss: 350.4907 - val_accuracy: 0.4535\n",
            "Epoch 29/50\n",
            "1563/1563 [==============================] - 8s 5ms/step - loss: 0.7536 - accuracy: 0.7436 - val_loss: 297.8716 - val_accuracy: 0.4690\n",
            "Epoch 30/50\n",
            "1563/1563 [==============================] - 8s 5ms/step - loss: 0.7293 - accuracy: 0.7534 - val_loss: 401.4918 - val_accuracy: 0.4325\n",
            "Epoch 31/50\n",
            "1563/1563 [==============================] - 7s 5ms/step - loss: 0.7040 - accuracy: 0.7599 - val_loss: 390.2106 - val_accuracy: 0.4265\n",
            "Epoch 32/50\n",
            "1563/1563 [==============================] - 8s 5ms/step - loss: 0.6808 - accuracy: 0.7689 - val_loss: 323.6538 - val_accuracy: 0.4965\n",
            "Epoch 33/50\n",
            "1563/1563 [==============================] - 7s 5ms/step - loss: 0.6536 - accuracy: 0.7795 - val_loss: 339.8970 - val_accuracy: 0.4690\n",
            "Epoch 34/50\n",
            "1563/1563 [==============================] - 8s 5ms/step - loss: 0.6290 - accuracy: 0.7883 - val_loss: 325.6119 - val_accuracy: 0.4950\n",
            "Epoch 35/50\n",
            "1563/1563 [==============================] - 8s 5ms/step - loss: 0.6058 - accuracy: 0.7985 - val_loss: 363.4849 - val_accuracy: 0.4850\n",
            "Epoch 36/50\n",
            "1563/1563 [==============================] - 7s 5ms/step - loss: 0.5861 - accuracy: 0.8046 - val_loss: 417.2351 - val_accuracy: 0.4480\n",
            "Epoch 37/50\n",
            "1563/1563 [==============================] - 8s 5ms/step - loss: 0.5606 - accuracy: 0.8141 - val_loss: 410.1266 - val_accuracy: 0.4665\n",
            "Epoch 38/50\n",
            "1563/1563 [==============================] - 8s 5ms/step - loss: 0.5385 - accuracy: 0.8222 - val_loss: 373.1560 - val_accuracy: 0.4750\n",
            "Epoch 39/50\n",
            "1563/1563 [==============================] - 7s 5ms/step - loss: 0.5109 - accuracy: 0.8317 - val_loss: 334.5570 - val_accuracy: 0.5015\n",
            "Epoch 40/50\n",
            "1563/1563 [==============================] - 8s 5ms/step - loss: 0.4925 - accuracy: 0.8377 - val_loss: 486.5822 - val_accuracy: 0.4345\n",
            "Epoch 41/50\n",
            "1563/1563 [==============================] - 7s 5ms/step - loss: 0.4663 - accuracy: 0.8484 - val_loss: 420.1987 - val_accuracy: 0.4770\n",
            "Epoch 42/50\n",
            "1563/1563 [==============================] - 8s 5ms/step - loss: 0.4469 - accuracy: 0.8540 - val_loss: 375.0937 - val_accuracy: 0.4950\n",
            "Epoch 43/50\n",
            "1563/1563 [==============================] - 8s 5ms/step - loss: 0.4234 - accuracy: 0.8647 - val_loss: 475.9480 - val_accuracy: 0.4330\n",
            "Epoch 44/50\n",
            "1563/1563 [==============================] - 7s 5ms/step - loss: 0.4035 - accuracy: 0.8710 - val_loss: 538.8733 - val_accuracy: 0.4105\n",
            "Epoch 45/50\n",
            "1563/1563 [==============================] - 8s 5ms/step - loss: 0.3906 - accuracy: 0.8756 - val_loss: 515.3325 - val_accuracy: 0.4370\n",
            "Epoch 46/50\n",
            "1563/1563 [==============================] - 7s 5ms/step - loss: 0.3695 - accuracy: 0.8848 - val_loss: 464.4744 - val_accuracy: 0.4645\n",
            "Epoch 47/50\n",
            "1563/1563 [==============================] - 8s 5ms/step - loss: 0.3454 - accuracy: 0.8949 - val_loss: 585.5818 - val_accuracy: 0.4070\n",
            "Epoch 48/50\n",
            "1563/1563 [==============================] - 8s 5ms/step - loss: 0.3294 - accuracy: 0.8970 - val_loss: 663.9053 - val_accuracy: 0.4250\n",
            "Epoch 49/50\n",
            "1563/1563 [==============================] - 7s 5ms/step - loss: 0.3080 - accuracy: 0.9065 - val_loss: 403.9810 - val_accuracy: 0.4905\n",
            "Epoch 50/50\n",
            "1563/1563 [==============================] - 8s 5ms/step - loss: 0.2956 - accuracy: 0.9116 - val_loss: 715.4635 - val_accuracy: 0.4135\n"
          ]
        },
        {
          "output_type": "execute_result",
          "data": {
            "text/plain": [
              "<keras.src.callbacks.History at 0x7eaa17be8e50>"
            ]
          },
          "metadata": {},
          "execution_count": 56
        }
      ]
    },
    {
      "cell_type": "code",
      "source": [
        "ann_pred = ann_model.predict(x_test)\n",
        "ann_pred_classes = [np.argmax(result) for result in ann_pred]"
      ],
      "metadata": {
        "colab": {
          "base_uri": "https://localhost:8080/"
        },
        "id": "49urP-LcZDDP",
        "outputId": "15d87c72-c932-4f4a-8ada-acb46b1f5944"
      },
      "execution_count": null,
      "outputs": [
        {
          "output_type": "stream",
          "name": "stdout",
          "text": [
            "250/250 [==============================] - 0s 2ms/step\n"
          ]
        }
      ]
    },
    {
      "cell_type": "code",
      "source": [
        "from sklearn.metrics import classification_report\n",
        "print(\"Classification Report for ANN :\\n\", classification_report(y_test, ann_pred_classes))"
      ],
      "metadata": {
        "colab": {
          "base_uri": "https://localhost:8080/"
        },
        "id": "hnNNrGugY72g",
        "outputId": "ff5fa18c-1624-464d-c23f-0ee1ec58f66c"
      },
      "execution_count": null,
      "outputs": [
        {
          "output_type": "stream",
          "name": "stdout",
          "text": [
            "Classification Report for ANN :\n",
            "               precision    recall  f1-score   support\n",
            "\n",
            "           0       0.79      0.42      0.55       813\n",
            "           1       0.69      0.66      0.68       811\n",
            "           2       0.69      0.13      0.22       799\n",
            "           3       0.32      0.38      0.34       802\n",
            "           4       0.62      0.32      0.42       819\n",
            "           5       0.23      0.73      0.35       809\n",
            "           6       0.72      0.39      0.50       787\n",
            "           7       0.72      0.47      0.57       774\n",
            "           8       0.62      0.73      0.67       797\n",
            "           9       0.62      0.61      0.62       789\n",
            "\n",
            "    accuracy                           0.48      8000\n",
            "   macro avg       0.60      0.48      0.49      8000\n",
            "weighted avg       0.60      0.48      0.49      8000\n",
            "\n"
          ]
        }
      ]
    },
    {
      "cell_type": "markdown",
      "source": [
        "CNN Model"
      ],
      "metadata": {
        "id": "qwYEmjFWak7U"
      }
    },
    {
      "cell_type": "code",
      "source": [
        "cnn_model = models.Sequential([\n",
        "    layers.Conv2D(filters = 64, kernel_size = (3,3), activation = 'relu', input_shape = (32, 32, 3)),\n",
        "    layers.MaxPooling2D((2,2)),\n",
        "\n",
        "    layers.Conv2D(filters = 32, kernel_size = (3,3), activation = 'relu'),\n",
        "    layers.MaxPooling2D((2,2)),\n",
        "\n",
        "    layers.Flatten(),\n",
        "    layers.Dense(1000, activation = 'relu'),\n",
        "    layers.Dense(10, activation = 'softmax')\n",
        "])\n",
        "\n",
        "cnn_model.compile(optimizer = 'SGD',\n",
        "                  loss = 'sparse_categorical_crossentropy',\n",
        "                  metrics = ['accuracy'])"
      ],
      "metadata": {
        "id": "EzUcwclCahV0"
      },
      "execution_count": null,
      "outputs": []
    },
    {
      "cell_type": "code",
      "source": [
        "cnn_model.fit(x_train, y_train, validation_data = (x_val, y_val), epochs = 50)"
      ],
      "metadata": {
        "colab": {
          "base_uri": "https://localhost:8080/"
        },
        "id": "ww9WBP1Rc8CE",
        "outputId": "7f517b50-7940-4734-848c-971bda0691fb"
      },
      "execution_count": null,
      "outputs": [
        {
          "output_type": "stream",
          "name": "stdout",
          "text": [
            "Epoch 1/50\n",
            "1563/1563 [==============================] - 8s 5ms/step - loss: 1.4466 - accuracy: 0.4795 - val_loss: 335.6563 - val_accuracy: 0.2995\n",
            "Epoch 2/50\n",
            "1563/1563 [==============================] - 6s 4ms/step - loss: 1.0688 - accuracy: 0.6233 - val_loss: 229.6244 - val_accuracy: 0.4550\n",
            "Epoch 3/50\n",
            "1563/1563 [==============================] - 7s 5ms/step - loss: 0.8871 - accuracy: 0.6893 - val_loss: 235.6496 - val_accuracy: 0.4495\n",
            "Epoch 4/50\n",
            "1563/1563 [==============================] - 6s 4ms/step - loss: 0.7473 - accuracy: 0.7389 - val_loss: 289.6331 - val_accuracy: 0.4495\n",
            "Epoch 5/50\n",
            "1563/1563 [==============================] - 7s 5ms/step - loss: 0.6230 - accuracy: 0.7849 - val_loss: 308.8992 - val_accuracy: 0.4875\n",
            "Epoch 6/50\n",
            "1563/1563 [==============================] - 7s 4ms/step - loss: 0.5031 - accuracy: 0.8264 - val_loss: 301.7300 - val_accuracy: 0.5100\n",
            "Epoch 7/50\n",
            "1563/1563 [==============================] - 7s 4ms/step - loss: 0.3920 - accuracy: 0.8643 - val_loss: 441.0910 - val_accuracy: 0.4765\n",
            "Epoch 8/50\n",
            "1563/1563 [==============================] - 7s 5ms/step - loss: 0.3024 - accuracy: 0.8961 - val_loss: 472.6010 - val_accuracy: 0.5015\n",
            "Epoch 9/50\n",
            "1563/1563 [==============================] - 6s 4ms/step - loss: 0.2222 - accuracy: 0.9227 - val_loss: 690.0853 - val_accuracy: 0.4605\n",
            "Epoch 10/50\n",
            "1563/1563 [==============================] - 7s 5ms/step - loss: 0.1737 - accuracy: 0.9398 - val_loss: 625.1437 - val_accuracy: 0.4925\n",
            "Epoch 11/50\n",
            "1563/1563 [==============================] - 6s 4ms/step - loss: 0.1442 - accuracy: 0.9506 - val_loss: 615.9409 - val_accuracy: 0.5340\n",
            "Epoch 12/50\n",
            "1563/1563 [==============================] - 7s 5ms/step - loss: 0.1202 - accuracy: 0.9583 - val_loss: 691.0331 - val_accuracy: 0.5355\n",
            "Epoch 13/50\n",
            "1563/1563 [==============================] - 6s 4ms/step - loss: 0.1121 - accuracy: 0.9615 - val_loss: 943.3505 - val_accuracy: 0.4780\n",
            "Epoch 14/50\n",
            "1563/1563 [==============================] - 7s 5ms/step - loss: 0.0976 - accuracy: 0.9669 - val_loss: 851.6255 - val_accuracy: 0.5275\n",
            "Epoch 15/50\n",
            "1563/1563 [==============================] - 7s 4ms/step - loss: 0.0949 - accuracy: 0.9692 - val_loss: 718.2490 - val_accuracy: 0.5570\n",
            "Epoch 16/50\n",
            "1563/1563 [==============================] - 7s 4ms/step - loss: 0.0842 - accuracy: 0.9715 - val_loss: 1157.6650 - val_accuracy: 0.4805\n",
            "Epoch 17/50\n",
            "1563/1563 [==============================] - 7s 5ms/step - loss: 0.0810 - accuracy: 0.9727 - val_loss: 932.0220 - val_accuracy: 0.5135\n",
            "Epoch 18/50\n",
            "1563/1563 [==============================] - 6s 4ms/step - loss: 0.0727 - accuracy: 0.9758 - val_loss: 953.4122 - val_accuracy: 0.5085\n",
            "Epoch 19/50\n",
            "1563/1563 [==============================] - 7s 4ms/step - loss: 0.0849 - accuracy: 0.9727 - val_loss: 1032.4323 - val_accuracy: 0.5070\n",
            "Epoch 20/50\n",
            "1563/1563 [==============================] - 6s 4ms/step - loss: 0.0736 - accuracy: 0.9760 - val_loss: 1048.7502 - val_accuracy: 0.5140\n",
            "Epoch 21/50\n",
            "1563/1563 [==============================] - 7s 4ms/step - loss: 0.0752 - accuracy: 0.9758 - val_loss: 1107.0732 - val_accuracy: 0.5305\n",
            "Epoch 22/50\n",
            "1563/1563 [==============================] - 6s 4ms/step - loss: 0.0648 - accuracy: 0.9797 - val_loss: 1120.6973 - val_accuracy: 0.5170\n",
            "Epoch 23/50\n",
            "1563/1563 [==============================] - 7s 5ms/step - loss: 0.0686 - accuracy: 0.9778 - val_loss: 1240.4331 - val_accuracy: 0.5005\n",
            "Epoch 24/50\n",
            "1563/1563 [==============================] - 6s 4ms/step - loss: 0.0626 - accuracy: 0.9794 - val_loss: 1472.2954 - val_accuracy: 0.4830\n",
            "Epoch 25/50\n",
            "1563/1563 [==============================] - 7s 5ms/step - loss: 0.0627 - accuracy: 0.9797 - val_loss: 1181.5682 - val_accuracy: 0.5245\n",
            "Epoch 26/50\n",
            "1563/1563 [==============================] - 7s 4ms/step - loss: 0.0704 - accuracy: 0.9776 - val_loss: 1124.4684 - val_accuracy: 0.5430\n",
            "Epoch 27/50\n",
            "1563/1563 [==============================] - 7s 4ms/step - loss: 0.0522 - accuracy: 0.9834 - val_loss: 1445.5458 - val_accuracy: 0.4830\n",
            "Epoch 28/50\n",
            "1563/1563 [==============================] - 7s 5ms/step - loss: 0.0675 - accuracy: 0.9779 - val_loss: 1147.4462 - val_accuracy: 0.5295\n",
            "Epoch 29/50\n",
            "1563/1563 [==============================] - 6s 4ms/step - loss: 0.0549 - accuracy: 0.9834 - val_loss: 1338.1566 - val_accuracy: 0.5140\n",
            "Epoch 30/50\n",
            "1563/1563 [==============================] - 7s 5ms/step - loss: 0.0629 - accuracy: 0.9801 - val_loss: 1318.0100 - val_accuracy: 0.5080\n",
            "Epoch 31/50\n",
            "1563/1563 [==============================] - 6s 4ms/step - loss: 0.0520 - accuracy: 0.9839 - val_loss: 1682.8235 - val_accuracy: 0.4545\n",
            "Epoch 32/50\n",
            "1563/1563 [==============================] - 7s 5ms/step - loss: 0.0632 - accuracy: 0.9807 - val_loss: 1456.3059 - val_accuracy: 0.4750\n",
            "Epoch 33/50\n",
            "1563/1563 [==============================] - 6s 4ms/step - loss: 0.0482 - accuracy: 0.9854 - val_loss: 1680.1799 - val_accuracy: 0.4655\n",
            "Epoch 34/50\n",
            "1563/1563 [==============================] - 7s 5ms/step - loss: 0.0566 - accuracy: 0.9829 - val_loss: 1637.9076 - val_accuracy: 0.4780\n",
            "Epoch 35/50\n",
            "1563/1563 [==============================] - 8s 5ms/step - loss: 0.0539 - accuracy: 0.9840 - val_loss: 1682.8699 - val_accuracy: 0.4835\n",
            "Epoch 36/50\n",
            "1563/1563 [==============================] - 7s 4ms/step - loss: 0.0497 - accuracy: 0.9852 - val_loss: 1569.0786 - val_accuracy: 0.4965\n",
            "Epoch 37/50\n",
            "1563/1563 [==============================] - 7s 5ms/step - loss: 0.0514 - accuracy: 0.9844 - val_loss: 1744.7572 - val_accuracy: 0.4785\n",
            "Epoch 38/50\n",
            "1563/1563 [==============================] - 6s 4ms/step - loss: 0.0459 - accuracy: 0.9859 - val_loss: 1954.0416 - val_accuracy: 0.4415\n",
            "Epoch 39/50\n",
            "1563/1563 [==============================] - 7s 5ms/step - loss: 0.0523 - accuracy: 0.9850 - val_loss: 1771.5841 - val_accuracy: 0.4685\n",
            "Epoch 40/50\n",
            "1563/1563 [==============================] - 6s 4ms/step - loss: 0.0528 - accuracy: 0.9848 - val_loss: 1911.3719 - val_accuracy: 0.4625\n",
            "Epoch 41/50\n",
            "1563/1563 [==============================] - 7s 5ms/step - loss: 0.0469 - accuracy: 0.9860 - val_loss: 1502.4077 - val_accuracy: 0.5140\n",
            "Epoch 42/50\n",
            "1563/1563 [==============================] - 7s 4ms/step - loss: 0.0469 - accuracy: 0.9866 - val_loss: 1360.6434 - val_accuracy: 0.5245\n",
            "Epoch 43/50\n",
            "1563/1563 [==============================] - 7s 4ms/step - loss: 0.0464 - accuracy: 0.9865 - val_loss: 1579.7218 - val_accuracy: 0.5035\n",
            "Epoch 44/50\n",
            "1563/1563 [==============================] - 7s 4ms/step - loss: 0.0526 - accuracy: 0.9853 - val_loss: 1682.7627 - val_accuracy: 0.5015\n",
            "Epoch 45/50\n",
            "1563/1563 [==============================] - 6s 4ms/step - loss: 0.0385 - accuracy: 0.9889 - val_loss: 1734.7194 - val_accuracy: 0.4830\n",
            "Epoch 46/50\n",
            "1563/1563 [==============================] - 7s 5ms/step - loss: 0.0466 - accuracy: 0.9861 - val_loss: 1732.2654 - val_accuracy: 0.4905\n",
            "Epoch 47/50\n",
            "1563/1563 [==============================] - 6s 4ms/step - loss: 0.0367 - accuracy: 0.9895 - val_loss: 2107.6282 - val_accuracy: 0.4810\n",
            "Epoch 48/50\n",
            "1563/1563 [==============================] - 7s 5ms/step - loss: 0.0468 - accuracy: 0.9871 - val_loss: 1886.3241 - val_accuracy: 0.5095\n",
            "Epoch 49/50\n",
            "1563/1563 [==============================] - 6s 4ms/step - loss: 0.0488 - accuracy: 0.9866 - val_loss: 1645.1213 - val_accuracy: 0.5255\n",
            "Epoch 50/50\n",
            "1563/1563 [==============================] - 7s 5ms/step - loss: 0.0427 - accuracy: 0.9880 - val_loss: 1734.4590 - val_accuracy: 0.5045\n"
          ]
        },
        {
          "output_type": "execute_result",
          "data": {
            "text/plain": [
              "<keras.src.callbacks.History at 0x7eaa193bdd80>"
            ]
          },
          "metadata": {},
          "execution_count": 60
        }
      ]
    },
    {
      "cell_type": "code",
      "source": [
        "cnn_pred = cnn_model.predict(x_test)\n",
        "cnn_pred_classes = [np.argmax(result) for result in cnn_pred]"
      ],
      "metadata": {
        "colab": {
          "base_uri": "https://localhost:8080/"
        },
        "id": "YSUlkKj_yKoL",
        "outputId": "e579ff7a-4a1a-4f94-a708-a1ea8cf87672"
      },
      "execution_count": null,
      "outputs": [
        {
          "output_type": "stream",
          "name": "stdout",
          "text": [
            "250/250 [==============================] - 1s 2ms/step\n"
          ]
        }
      ]
    },
    {
      "cell_type": "code",
      "source": [
        "print(\"Classification report :\\n\", classification_report(y_test, cnn_pred_classes))"
      ],
      "metadata": {
        "colab": {
          "base_uri": "https://localhost:8080/"
        },
        "id": "R3gMy3CTyYuN",
        "outputId": "a79b7f41-484b-424b-cdea-ad9ab2533b2f"
      },
      "execution_count": null,
      "outputs": [
        {
          "output_type": "stream",
          "name": "stdout",
          "text": [
            "Classification report :\n",
            "               precision    recall  f1-score   support\n",
            "\n",
            "           0       0.78      0.68      0.72       813\n",
            "           1       0.78      0.83      0.80       811\n",
            "           2       0.49      0.64      0.56       799\n",
            "           3       0.46      0.50      0.48       802\n",
            "           4       0.64      0.54      0.59       819\n",
            "           5       0.57      0.55      0.56       809\n",
            "           6       0.75      0.73      0.74       787\n",
            "           7       0.68      0.74      0.71       774\n",
            "           8       0.76      0.79      0.77       797\n",
            "           9       0.83      0.65      0.73       789\n",
            "\n",
            "    accuracy                           0.66      8000\n",
            "   macro avg       0.67      0.66      0.67      8000\n",
            "weighted avg       0.67      0.66      0.67      8000\n",
            "\n"
          ]
        }
      ]
    },
    {
      "cell_type": "code",
      "source": [
        "def test(index, x = x_test, y = y_test):\n",
        "  plot_image(index, x, y)\n",
        "  input_img = [np.expand_dims(x[index], axis = 0)]\n",
        "  print(\"Original Class :\", classes[y[index]])\n",
        "  print(\"ANN Predicted Class :\", classes[np.argmax(ann_model.predict(input_img))])\n",
        "  print(\"CNN Predicted Class :\", classes[np.argmax(cnn_model.predict(input_img))])\n"
      ],
      "metadata": {
        "id": "ap6TDyIlyliH"
      },
      "execution_count": null,
      "outputs": []
    },
    {
      "cell_type": "code",
      "source": [
        "x_test[10].shape"
      ],
      "metadata": {
        "colab": {
          "base_uri": "https://localhost:8080/"
        },
        "id": "tL2pyPFi4s80",
        "outputId": "cd63031f-7fef-4d70-df2d-f9c07c8d6958"
      },
      "execution_count": null,
      "outputs": [
        {
          "output_type": "execute_result",
          "data": {
            "text/plain": [
              "(32, 32, 3)"
            ]
          },
          "metadata": {},
          "execution_count": 64
        }
      ]
    },
    {
      "cell_type": "code",
      "source": [
        "test(10)"
      ],
      "metadata": {
        "colab": {
          "base_uri": "https://localhost:8080/",
          "height": 475
        },
        "id": "Rr9bz1q30G1A",
        "outputId": "780ae86c-b8b7-4ad3-dc4c-a47494b8910b"
      },
      "execution_count": null,
      "outputs": [
        {
          "output_type": "stream",
          "name": "stdout",
          "text": [
            "Original Class : deer\n",
            "1/1 [==============================] - 0s 56ms/step\n",
            "ANN Predicted Class : deer\n",
            "1/1 [==============================] - 0s 63ms/step\n",
            "CNN Predicted Class : deer\n"
          ]
        },
        {
          "output_type": "display_data",
          "data": {
            "text/plain": [
              "<Figure size 1500x400 with 1 Axes>"
            ],
            "image/png": "[encoded data removed]"
          },
          "metadata": {}
        }
      ]
    },
    {
      "cell_type": "code",
      "source": [
        "test(7999)"
      ],
      "metadata": {
        "colab": {
          "base_uri": "https://localhost:8080/",
          "height": 475
        },
        "id": "7-Bm_J6u2ynt",
        "outputId": "41d71182-29e4-410c-8a0a-426b5b1eb47f"
      },
      "execution_count": null,
      "outputs": [
        {
          "output_type": "stream",
          "name": "stdout",
          "text": [
            "Original Class : truck\n",
            "1/1 [==============================] - 0s 23ms/step\n",
            "ANN Predicted Class : truck\n",
            "1/1 [==============================] - 0s 19ms/step\n",
            "CNN Predicted Class : truck\n"
          ]
        },
        {
          "output_type": "display_data",
          "data": {
            "text/plain": [
              "<Figure size 1500x400 with 1 Axes>"
            ],
            "image/png": "[encoded data removed]"
          },
          "metadata": {}
        }
      ]
    },
    {
      "cell_type": "code",
      "source": [
        "test(49999, x_train, y_train)"
      ],
      "metadata": {
        "colab": {
          "base_uri": "https://localhost:8080/",
          "height": 475
        },
        "id": "L5aOVfVf6tUK",
        "outputId": "3bda4ecb-96a9-4e65-ef0d-20edac36897d"
      },
      "execution_count": null,
      "outputs": [
        {
          "output_type": "stream",
          "name": "stdout",
          "text": [
            "Original Class : automobile\n",
            "1/1 [==============================] - 0s 18ms/step\n",
            "ANN Predicted Class : automobile\n",
            "1/1 [==============================] - 0s 16ms/step\n",
            "CNN Predicted Class : automobile\n"
          ]
        },
        {
          "output_type": "display_data",
          "data": {
            "text/plain": [
              "<Figure size 1500x400 with 1 Axes>"
            ],
            "image/png": "[encoded data removed]"
          },
          "metadata": {}
        }
      ]
    },
    {
      "cell_type": "code",
      "source": [
        "test(33)"
      ],
      "metadata": {
        "colab": {
          "base_uri": "https://localhost:8080/",
          "height": 475
        },
        "id": "LRAHVMzd6zVZ",
        "outputId": "b2674065-ff6c-4f57-b144-42ee88be07c2"
      },
      "execution_count": null,
      "outputs": [
        {
          "output_type": "stream",
          "name": "stdout",
          "text": [
            "Original Class : airplane\n",
            "1/1 [==============================] - 0s 20ms/step\n",
            "ANN Predicted Class : dog\n",
            "1/1 [==============================] - 0s 27ms/step\n",
            "CNN Predicted Class : airplane\n"
          ]
        },
        {
          "output_type": "display_data",
          "data": {
            "text/plain": [
              "<Figure size 1500x400 with 1 Axes>"
            ],
            "image/png": "[encoded data removed]"
          },
          "metadata": {}
        }
      ]
    },
    {
      "cell_type": "code",
      "source": [
        "test(11)"
      ],
      "metadata": {
        "colab": {
          "base_uri": "https://localhost:8080/",
          "height": 475
        },
        "id": "guDPghUT62PN",
        "outputId": "4bd0ecbf-d52a-409d-8951-871cbd2eb7b0"
      },
      "execution_count": null,
      "outputs": [
        {
          "output_type": "stream",
          "name": "stdout",
          "text": [
            "Original Class : dog\n",
            "1/1 [==============================] - 0s 31ms/step\n",
            "ANN Predicted Class : dog\n",
            "1/1 [==============================] - 0s 29ms/step\n",
            "CNN Predicted Class : dog\n"
          ]
        },
        {
          "output_type": "display_data",
          "data": {
            "text/plain": [
              "<Figure size 1500x400 with 1 Axes>"
            ],
            "image/png": "[encoded data removed]"
          },
          "metadata": {}
        }
      ]
    },
    {
      "cell_type": "code",
      "source": [
        "test(50)"
      ],
      "metadata": {
        "colab": {
          "base_uri": "https://localhost:8080/",
          "height": 475
        },
        "id": "Jtlv6BII68l_",
        "outputId": "800e2bcb-0642-4c22-c4ff-00f8909ca3e4"
      },
      "execution_count": null,
      "outputs": [
        {
          "output_type": "stream",
          "name": "stdout",
          "text": [
            "Original Class : ship\n",
            "1/1 [==============================] - 0s 34ms/step\n",
            "ANN Predicted Class : ship\n",
            "1/1 [==============================] - 0s 45ms/step\n",
            "CNN Predicted Class : ship\n"
          ]
        },
        {
          "output_type": "display_data",
          "data": {
            "text/plain": [
              "<Figure size 1500x400 with 1 Axes>"
            ],
            "image/png": "[encoded data removed]"
          },
          "metadata": {}
        }
      ]
    },
    {
      "cell_type": "code",
      "source": [],
      "metadata": {
        "id": "fAIWrT-jDpYN"
      },
      "execution_count": null,
      "outputs": []
    }
  ],
  "metadata": {
    "accelerator": "GPU",
    "colab": {
      "gpuType": "T4",
      "provenance": [],
      "authorship_tag": "ABX9TyMRUggHsZcZBh7avhoNFlp2",
      "include_colab_link": true
    },
    "kernelspec": {
      "display_name": "Python 3",
      "name": "python3"
    },
    "language_info": {
      "name": "python"
    }
  },
  "nbformat": 4,
  "nbformat_minor": 0
}